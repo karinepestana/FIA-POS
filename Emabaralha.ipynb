{
 "cells": [
  {
   "cell_type": "code",
   "execution_count": 1,
   "metadata": {},
   "outputs": [],
   "source": [
    "import numpy as np"
   ]
  },
  {
   "cell_type": "code",
   "execution_count": 2,
   "metadata": {},
   "outputs": [],
   "source": [
    "size = 3\n",
    "m = np.arange(0, size*size, 1).reshape(size, size)"
   ]
  },
  {
   "cell_type": "code",
   "execution_count": 3,
   "metadata": {},
   "outputs": [
    {
     "data": {
      "text/plain": [
       "array([[0, 1, 2],\n",
       "       [3, 4, 5],\n",
       "       [6, 7, 8]])"
      ]
     },
     "execution_count": 3,
     "metadata": {},
     "output_type": "execute_result"
    }
   ],
   "source": [
    "#np.random.shuffle(m)\n",
    "m"
   ]
  },
  {
   "cell_type": "code",
   "execution_count": 4,
   "metadata": {},
   "outputs": [],
   "source": [
    "def busca_zero(m):\n",
    "    i= 0\n",
    "    j= 0\n",
    "    s = 1500\n",
    "    aux =0\n",
    "    while (i<size) and (m[i,j]!= 0):\n",
    "        while (j<size) and (m[i,j]!= 0):\n",
    "            j=j+1\n",
    "        if j!=3 and m[i,j]==0:\n",
    "            break\n",
    "        else:\n",
    "            j=0\n",
    "            i=i+1\n",
    "        \n",
    "    if i >= size:\n",
    "        i = size-1\n",
    "    if j >= size:\n",
    "        j = size-1\n",
    "        \n",
    "            \n",
    "    #Verifica se o 0 está nos cantos(0) ou nas bordas(1) ou no meio(2)\n",
    "        \n",
    "    if (i == 0):\n",
    "        aux = 1\n",
    "        if (j == 0) or (j == size-1):\n",
    "            s = 0\n",
    "        else:\n",
    "            s = 1\n",
    "    elif i == size-1:\n",
    "        if (j == 0) or (j == size-1):\n",
    "            s = 0\n",
    "        else:\n",
    "            s = 1\n",
    "    elif (j == 0) or (j == size-1):\n",
    "        s = 1\n",
    "    else:\n",
    "        s = 2           \n",
    "        \n",
    "    return i,j,s"
   ]
  },
  {
   "cell_type": "code",
   "execution_count": 5,
   "metadata": {},
   "outputs": [
    {
     "name": "stdout",
     "output_type": "stream",
     "text": [
      "(0, 0, 0)\n"
     ]
    }
   ],
   "source": [
    "print(busca_zero(m))"
   ]
  },
  {
   "cell_type": "code",
   "execution_count": 6,
   "metadata": {},
   "outputs": [
    {
     "name": "stdout",
     "output_type": "stream",
     "text": [
      "7\n"
     ]
    }
   ],
   "source": [
    "from random import randint\n",
    "print(randint(0,9))\n",
    "def embaralha(m):\n",
    "    i,j,s = busca_zero(m)\n",
    "    #print(i, j, s)\n",
    "    #print(m)\n",
    "    \n",
    "    if s == 0:\n",
    "        rand = randint(0,1)\n",
    "        if rand == 0:\n",
    "            if j == 0:\n",
    "                aux = m[i,j+1]\n",
    "                m[i,j+1] = 0\n",
    "                m[i,j] = aux\n",
    "            else:\n",
    "                aux = m[i, j-1]\n",
    "                m[i, j-1] = 0\n",
    "                m[i,j] = aux\n",
    "        else:\n",
    "            if i == 0:\n",
    "                aux = m[i+1,j]\n",
    "                m[i+1,j] = 0\n",
    "                m[i,j] = aux\n",
    "            else:\n",
    "                aux = m[i-1, j]\n",
    "                m[i-1, j] = 0\n",
    "                m[i,j] = aux \n",
    "    elif s == 1:\n",
    "        rand = randint(0,2)\n",
    "        if rand == 0:\n",
    "            if i == 0 or i == size-1:\n",
    "                #borda superior ou inferior -> troca com o da direita\n",
    "                aux = m[i,j+1]\n",
    "                m[i,j+1] = 0\n",
    "                m[i,j] = aux\n",
    "            else:\n",
    "                #borda lateral -> troca com o de baixo\n",
    "                aux = m[i+1,j]\n",
    "                m[i+1,j] = 0\n",
    "                m[i,j] = aux\n",
    "        elif rand == 1:\n",
    "            if i == 0 or i == size-1:\n",
    "                #borda superior ou inferior -> troca com o da esquerda\n",
    "                aux = m[i, j-1]\n",
    "                m[i, j-1] = 0\n",
    "                m[i,j] = aux\n",
    "            else:\n",
    "                #borda lateral -> troca com o de cima\n",
    "                #print(m)\n",
    "                #print(i,j,s)\n",
    "                aux = m[i-1, j]\n",
    "                m[i-1, j] = 0\n",
    "                m[i,j] = aux\n",
    "        else:\n",
    "            if i == 0:\n",
    "                #borda superior -> troca com o de baixo\n",
    "                aux = m[i+1,j]\n",
    "                m[i+1,j] = 0\n",
    "                m[i,j] = aux\n",
    "            elif i == size-1:\n",
    "                #borda inferior -> troca com o de cima\n",
    "                aux = m[i-1, j]\n",
    "                m[i-1, j] = 0\n",
    "                m[i,j] = aux\n",
    "            elif j == 0:\n",
    "                #borda lateral esquerda -> troca com o do lado direito\n",
    "                #print(m)\n",
    "                #print(i,j,s)\n",
    "                aux = m[i,j+1]\n",
    "                m[i,j+1] = 0\n",
    "                m[i,j] = aux\n",
    "            else:\n",
    "                #borda lateral direita -> troca com o do lado esquerdo\n",
    "                aux = m[i, j-1]\n",
    "                m[i, j-1] = 0\n",
    "                m[i,j] = aux\n",
    "    else:\n",
    "        rand = randint(0,3)\n",
    "        if rand == 0:\n",
    "            aux = m[i,j+1]\n",
    "            m[i,j+1] = 0\n",
    "            m[i,j] = aux\n",
    "        elif rand == 1:\n",
    "            aux = m[i, j-1]\n",
    "            m[i, j-1] = 0\n",
    "            m[i,j] = aux\n",
    "        elif rand == 2:\n",
    "            aux = m[i+1,j]\n",
    "            m[i+1,j] = 0\n",
    "            m[i,j] = aux\n",
    "        else:\n",
    "            aux = m[i-1, j]\n",
    "            m[i-1, j] = 0\n",
    "            m[i,j] = aux\n",
    "            \n",
    "    return m"
   ]
  },
  {
   "cell_type": "code",
   "execution_count": 7,
   "metadata": {},
   "outputs": [
    {
     "data": {
      "text/plain": [
       "array([[5, 8, 1],\n",
       "       [7, 0, 2],\n",
       "       [6, 3, 4]])"
      ]
     },
     "execution_count": 7,
     "metadata": {},
     "output_type": "execute_result"
    }
   ],
   "source": [
    "for x in range(0, 1000):\n",
    "    embaralha(m)\n",
    "m"
   ]
  }
 ],
 "metadata": {
  "kernelspec": {
   "display_name": "Python 3",
   "language": "python",
   "name": "python3"
  },
  "language_info": {
   "codemirror_mode": {
    "name": "ipython",
    "version": 3
   },
   "file_extension": ".py",
   "mimetype": "text/x-python",
   "name": "python",
   "nbconvert_exporter": "python",
   "pygments_lexer": "ipython3",
   "version": "3.6.5"
  }
 },
 "nbformat": 4,
 "nbformat_minor": 2
}
